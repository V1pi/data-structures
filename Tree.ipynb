{
 "cells": [
  {
   "cell_type": "code",
   "execution_count": 1,
   "metadata": {},
   "outputs": [],
   "source": [
    "from collections import deque"
   ]
  },
  {
   "cell_type": "markdown",
   "metadata": {},
   "source": [
    "# Criação das classes base"
   ]
  },
  {
   "cell_type": "code",
   "execution_count": 2,
   "metadata": {},
   "outputs": [],
   "source": [
    "class Queue(object):\n",
    "    def __init__(self):\n",
    "        self.q = deque()\n",
    "    def enq(self, value):\n",
    "        self.q.appendleft(value)\n",
    "    def deq(self):\n",
    "        if len(self.q) > 0:\n",
    "            return self.q.pop()\n",
    "        else:\n",
    "            return None\n",
    "    \n",
    "    def __len__(self):\n",
    "        return len(self.q)\n",
    "    \n",
    "    def __repr__(self):\n",
    "        if len(self.q) > 0:\n",
    "            s = '<enqueue here>\\n_________\\n'\n",
    "            s += '\\n_________\\n'.join([str(item) for item in self.q])\n",
    "            s += '\\n_________\\n<dequeue here>'\n",
    "            return s\n",
    "        else:\n",
    "            return '<enqueue here>'"
   ]
  },
  {
   "cell_type": "code",
   "execution_count": 3,
   "metadata": {},
   "outputs": [],
   "source": [
    "class Node(object):    \n",
    "    def __init__(self, value, left = None, right = None):\n",
    "        self.value = value\n",
    "        self._left = left\n",
    "        self._right = right\n",
    "        \n",
    "    def __repr__(self):\n",
    "        return f'Node({self.value})'\n",
    "    \n",
    "    def __str__(self):\n",
    "        return f'Node({self.value})'\n",
    "    \n",
    "    @property\n",
    "    def hasLeft(self):\n",
    "        return self.left is not None\n",
    "    \n",
    "    @property\n",
    "    def hasRight(self):\n",
    "        return self.right is not None\n",
    "    \n",
    "    @property\n",
    "    def value(self):\n",
    "        return self._value\n",
    "    @value.setter\n",
    "    def value(self, newValue):\n",
    "        self._value = newValue\n",
    "\n",
    "    @property\n",
    "    def left(self):\n",
    "        return self._left\n",
    "    \n",
    "    def setLeft(self, newLeft):\n",
    "        self._left = newLeft\n",
    "        return self\n",
    "   \n",
    "    @property\n",
    "    def right(self):\n",
    "        return self._right\n",
    "    \n",
    "    def setRight(self, newRight):\n",
    "        self._right = newRight\n",
    "        return self"
   ]
  },
  {
   "cell_type": "code",
   "execution_count": 12,
   "metadata": {},
   "outputs": [],
   "source": [
    "class Tree(object):\n",
    "    def __init__(self, value = None,root=None):\n",
    "        if(value is not None):\n",
    "            self.root = Node(value)\n",
    "        else:\n",
    "            self.root = root\n",
    "    \n",
    "    def _repr(self, q):\n",
    "        msg = ''\n",
    "        if(len(q) > 0):\n",
    "            node = q.deq()\n",
    "            msg += '( '+ str(node) + ': ['\n",
    "            if(node.left):\n",
    "                msg += str(node.left)\n",
    "                q.enq(node.left)\n",
    "            msg += ' | '\n",
    "            if(node.right):\n",
    "                msg += str(node.right)\n",
    "                q.enq(node.right)\n",
    "            msg += '] )'\n",
    "            msg += ' , ' + self._repr(q)\n",
    "#             msg +=  bfs(q)\n",
    "        return msg\n",
    "\n",
    "    def __repr__(self):\n",
    "        q = Queue()\n",
    "        q.enq(self.root)\n",
    "        return self._repr(q)\n",
    "         \n",
    "        \n",
    "            \n",
    "    @property\n",
    "    def root(self):\n",
    "        return self._root\n",
    "    @root.setter\n",
    "    def root(self, newRoot):\n",
    "        self._root = newRoot"
   ]
  },
  {
   "cell_type": "markdown",
   "metadata": {},
   "source": [
    "# Depth-First Search"
   ]
  },
  {
   "cell_type": "code",
   "execution_count": 5,
   "metadata": {},
   "outputs": [],
   "source": [
    "# Essa classe não é mais usada na implementação da recursão\n",
    "class State(object):\n",
    "    def __init__(self, node):\n",
    "        self.node = node\n",
    "        self._visited_left = False\n",
    "        self._visited_right = False\n",
    "    @property\n",
    "    def visited_left(self):\n",
    "        return self._visited_left\n",
    "    \n",
    "    def checkLeft(self):\n",
    "        self._visited_left = True\n",
    "    \n",
    "    @property\n",
    "    def visited_right(self):\n",
    "        return self._visited_right\n",
    "    def checkRight(self):\n",
    "        self._visited_right = True\n",
    "    \n",
    "    def __repr__(self):\n",
    "        return f'{self.node} visited_left: {self.visited_left} / visited_right: {self.visited_right}'"
   ]
  },
  {
   "cell_type": "code",
   "execution_count": 6,
   "metadata": {},
   "outputs": [],
   "source": [
    "# Deepth-First Search\n",
    "def preOrder(node):\n",
    "    if(node is not None):\n",
    "        print(node)\n",
    "        preOrder(node.left)\n",
    "        preOrder(node.right)\n",
    "def inOrder(node):\n",
    "    if(node is not None):\n",
    "        preOrder(node.left)\n",
    "        print(node)\n",
    "        preOrder(node.right)\n",
    "def posOrder(node):\n",
    "    if(node is not None):\n",
    "        preOrder(node.left)\n",
    "        preOrder(node.right)\n",
    "        print(node)"
   ]
  },
  {
   "cell_type": "code",
   "execution_count": 7,
   "metadata": {},
   "outputs": [
    {
     "name": "stdout",
     "output_type": "stream",
     "text": [
      "PreOrder\n",
      "Node(apple)\n",
      "Node(banana)\n",
      "Node(dates)\n",
      "Node(cherry)\n",
      "\n",
      "InOrder\n",
      "Node(banana)\n",
      "Node(dates)\n",
      "Node(apple)\n",
      "Node(cherry)\n",
      "\n",
      "PosOrder\n",
      "Node(banana)\n",
      "Node(dates)\n",
      "Node(cherry)\n",
      "Node(apple)\n"
     ]
    }
   ],
   "source": [
    "tree = Tree('apple')\n",
    "tree.root.setLeft(Node('banana')).setRight(Node('cherry')).left.setLeft(Node('dates'))\n",
    "print(\"PreOrder\")\n",
    "preOrder(tree.root)\n",
    "print(\"\\nInOrder\")\n",
    "inOrder(tree.root)\n",
    "print(\"\\nPosOrder\")\n",
    "posOrder(tree.root)"
   ]
  },
  {
   "cell_type": "markdown",
   "metadata": {},
   "source": [
    "# Breadth First Search (busca em largura)"
   ]
  },
  {
   "cell_type": "code",
   "execution_count": 8,
   "metadata": {},
   "outputs": [],
   "source": [
    "def bfs(q):\n",
    "    if len(q)>0:\n",
    "        node = q.deq()   \n",
    "        print(node)     \n",
    "        if(node.left):\n",
    "            q.enq(node.left)\n",
    "        if(node.right):\n",
    "            q.enq(node.right)\n",
    "        bfs(q)"
   ]
  },
  {
   "cell_type": "code",
   "execution_count": 10,
   "metadata": {},
   "outputs": [
    {
     "name": "stdout",
     "output_type": "stream",
     "text": [
      "Node(apple)\n",
      "Node(banana)\n",
      "Node(cherry)\n",
      "Node(dates)\n"
     ]
    }
   ],
   "source": [
    "tree = Tree('apple')\n",
    "tree.root.setLeft(Node('banana')).setRight(Node('cherry')).left.setLeft(Node('dates'))\n",
    "q = Queue()\n",
    "q.enq(tree.root)\n",
    "bfs(q)"
   ]
  },
  {
   "cell_type": "markdown",
   "metadata": {},
   "source": [
    "# Binary Search Three"
   ]
  },
  {
   "cell_type": "code",
   "execution_count": 82,
   "metadata": {},
   "outputs": [],
   "source": [
    "class Tree(object):\n",
    "    def __init__(self, value = None,root=None):\n",
    "        if(value is not None):\n",
    "            self.root = Node(value)\n",
    "        else:\n",
    "            self.root = root\n",
    "    \n",
    "    def compare(self, node, new_node):\n",
    "        if(node is None or new_node is None):\n",
    "            return None\n",
    "        elif(new_node.value > node.value):\n",
    "            return 1\n",
    "        elif(new_node.value < node.value):\n",
    "            return -1\n",
    "        else:\n",
    "            return 0\n",
    "\n",
    "    def _insert(self, current_node, new_node):\n",
    "        if(current_node is not None):\n",
    "            compare_value = self.compare(current_node, new_node)\n",
    "            if(compare_value == 1):\n",
    "                self._insert(current_node.right, new_node)\n",
    "                if(current_node.right is None):\n",
    "                    current_node.setRight(new_node)\n",
    "            elif(compare_value == -1):\n",
    "                self._insert(current_node.left, new_node)\n",
    "                if(current_node.left is None):\n",
    "                    current_node.setLeft(new_node)\n",
    "            else:\n",
    "                current_node = new_node\n",
    "        \n",
    "    def insert(self, value):\n",
    "        if(self.root is None):\n",
    "            self.root = Node(value)\n",
    "        self._insert(self.root, Node(value))\n",
    "    \n",
    "    def _search(self, node, check_node):\n",
    "        if(node is None):\n",
    "            return False\n",
    "        compare_value = self.compare(node, check_node)\n",
    "        if(compare_value == 0):\n",
    "            return True\n",
    "        elif(compare_value ==  1):\n",
    "            return self._search(node.right,check_node)\n",
    "        else:\n",
    "            return self._search(node.left,check_node)\n",
    "            \n",
    "    \n",
    "    def search(self, value):\n",
    "        return self._search(self.root, Node(value))\n",
    "    \n",
    "    def _delete(self, node, delete_node):\n",
    "        if node is not None:\n",
    "            compare_value = self.compare(node, delete_node)\n",
    "\n",
    "            if compare_value == 0:\n",
    "                if(node.left is None and node.right is None):\n",
    "                    return None\n",
    "                elif node.left is None and node.right is not None:\n",
    "                    return node.right\n",
    "                elif node.right is None and node.left is not None:\n",
    "                    return node.left\n",
    "            elif(compare_value ==  1):\n",
    "                node.setRight(self._delete(node.right,delete_node))\n",
    "            elif(compare_value==-1):\n",
    "                node.setLeft(self._delete(node.left,delete_node))\n",
    "        return node\n",
    "    \n",
    "    def delete(self, value):\n",
    "        self.root = self._delete(self.root, Node(value))\n",
    "    \n",
    "    def _repr(self, q):\n",
    "        msg = ''\n",
    "        if(len(q) > 0):\n",
    "            node = q.deq()\n",
    "            msg += '( '+ str(node) + ': ['\n",
    "            if(node.left):\n",
    "                msg += str(node.left)\n",
    "                q.enq(node.left)\n",
    "            msg += ' | '\n",
    "            if(node.right):\n",
    "                msg += str(node.right)\n",
    "                q.enq(node.right)\n",
    "            msg += '] )'\n",
    "            msg += ' , ' + self._repr(q)\n",
    "#             msg +=  bfs(q)\n",
    "        return msg\n",
    "\n",
    "    def __repr__(self):\n",
    "        q = Queue()\n",
    "        q.enq(self.root)\n",
    "        return self._repr(q)\n",
    "         \n",
    "    @property\n",
    "    def root(self):\n",
    "        return self._root\n",
    "    @root.setter\n",
    "    def root(self, newRoot):\n",
    "        self._root = newRoot"
   ]
  },
  {
   "cell_type": "code",
   "execution_count": 83,
   "metadata": {},
   "outputs": [
    {
     "name": "stdout",
     "output_type": "stream",
     "text": [
      "( Node(10): [Node(5) | Node(12)] ) , ( Node(5): [ | ] ) , ( Node(12): [ | Node(15)] ) , ( Node(15): [ | ] ) , \n"
     ]
    }
   ],
   "source": [
    "t = Tree(10)\n",
    "t.insert(5)\n",
    "t.insert(12)\n",
    "t.insert(15)\n",
    "print(t)\n"
   ]
  },
  {
   "cell_type": "code",
   "execution_count": 84,
   "metadata": {},
   "outputs": [
    {
     "name": "stdout",
     "output_type": "stream",
     "text": [
      "( Node(10): [Node(5) | Node(15)] ) , ( Node(5): [ | ] ) , ( Node(15): [ | ] ) , \n"
     ]
    }
   ],
   "source": [
    "t.delete(12)\n",
    "print(t)"
   ]
  },
  {
   "cell_type": "code",
   "execution_count": null,
   "metadata": {},
   "outputs": [],
   "source": []
  }
 ],
 "metadata": {
  "kernelspec": {
   "display_name": "Python 3",
   "language": "python",
   "name": "python3"
  },
  "language_info": {
   "codemirror_mode": {
    "name": "ipython",
    "version": 3
   },
   "file_extension": ".py",
   "mimetype": "text/x-python",
   "name": "python",
   "nbconvert_exporter": "python",
   "pygments_lexer": "ipython3",
   "version": "3.7.3"
  }
 },
 "nbformat": 4,
 "nbformat_minor": 2
}
