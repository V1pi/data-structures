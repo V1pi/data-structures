{
 "cells": [
  {
   "cell_type": "code",
   "execution_count": 86,
   "metadata": {},
   "outputs": [],
   "source": [
    "from collections import deque"
   ]
  },
  {
   "cell_type": "markdown",
   "metadata": {},
   "source": [
    "# Criação das classes base"
   ]
  },
  {
   "cell_type": "code",
   "execution_count": 64,
   "metadata": {},
   "outputs": [],
   "source": [
    "class Node(object):    \n",
    "    def __init__(self, value, left = None, right = None):\n",
    "        self.value = value\n",
    "        self._left = left\n",
    "        self._right = right\n",
    "        \n",
    "    def __repr__(self):\n",
    "        return f'Node({self.value})'\n",
    "    \n",
    "    def __str__(self):\n",
    "        return f'Node({self.value})'\n",
    "    \n",
    "    @property\n",
    "    def hasLeft(self):\n",
    "        return self.left is not None\n",
    "    \n",
    "    @property\n",
    "    def hasRight(self):\n",
    "        return self.right is not None\n",
    "    \n",
    "    @property\n",
    "    def value(self):\n",
    "        return self._value\n",
    "    @value.setter\n",
    "    def value(self, newValue):\n",
    "        self._value = newValue\n",
    "\n",
    "    @property\n",
    "    def left(self):\n",
    "        return self._left\n",
    "    \n",
    "    def setLeft(self, newLeft):\n",
    "        self._left = newLeft\n",
    "        return self\n",
    "   \n",
    "    @property\n",
    "    def right(self):\n",
    "        return self._right\n",
    "    \n",
    "    def setRight(self, newRight):\n",
    "        self._right = newRight\n",
    "        return self"
   ]
  },
  {
   "cell_type": "code",
   "execution_count": 76,
   "metadata": {},
   "outputs": [],
   "source": [
    "class Tree(object):\n",
    "    def __init__(self, value = None,root=None):\n",
    "        if(value is not None):\n",
    "            self.root = Node(value)\n",
    "        else:\n",
    "            self.root = root\n",
    "            \n",
    "    @property\n",
    "    def root(self):\n",
    "        return self._root\n",
    "    @root.setter\n",
    "    def root(self, newRoot):\n",
    "        self._root = newRoot"
   ]
  },
  {
   "cell_type": "markdown",
   "metadata": {},
   "source": [
    "# Depth-First Search"
   ]
  },
  {
   "cell_type": "code",
   "execution_count": 104,
   "metadata": {},
   "outputs": [],
   "source": [
    "# Essa classe não é mais usada na implementação da recursão\n",
    "class State(object):\n",
    "    def __init__(self, node):\n",
    "        self.node = node\n",
    "        self._visited_left = False\n",
    "        self._visited_right = False\n",
    "    @property\n",
    "    def visited_left(self):\n",
    "        return self._visited_left\n",
    "    \n",
    "    def checkLeft(self):\n",
    "        self._visited_left = True\n",
    "    \n",
    "    @property\n",
    "    def visited_right(self):\n",
    "        return self._visited_right\n",
    "    def checkRight(self):\n",
    "        self._visited_right = True\n",
    "    \n",
    "    def __repr__(self):\n",
    "        return f'{self.node} visited_left: {self.visited_left} / visited_right: {self.visited_right}'"
   ]
  },
  {
   "cell_type": "code",
   "execution_count": 130,
   "metadata": {},
   "outputs": [],
   "source": [
    "# Deepth-First Search\n",
    "def preOrder(node):\n",
    "    if(node is not None):\n",
    "        print(node)\n",
    "        preOrder(node.left)\n",
    "        preOrder(node.right)\n",
    "def inOrder(node):\n",
    "    if(node is not None):\n",
    "        preOrder(node.left)\n",
    "        print(node)\n",
    "        preOrder(node.right)\n",
    "def posOrder(node):\n",
    "    if(node is not None):\n",
    "        preOrder(node.left)\n",
    "        preOrder(node.right)\n",
    "        print(node)"
   ]
  },
  {
   "cell_type": "code",
   "execution_count": 132,
   "metadata": {},
   "outputs": [
    {
     "name": "stdout",
     "output_type": "stream",
     "text": [
      "PreOrder\n",
      "Node(apple)\n",
      "Node(banana)\n",
      "Node(dates)\n",
      "Node(cherry)\n",
      "\n",
      "InOrder\n",
      "Node(banana)\n",
      "Node(dates)\n",
      "Node(apple)\n",
      "Node(cherry)\n",
      "\n",
      "PosOrder\n",
      "Node(banana)\n",
      "Node(dates)\n",
      "Node(cherry)\n",
      "Node(apple)\n"
     ]
    }
   ],
   "source": [
    "tree = Tree('apple')\n",
    "tree.root.setLeft(Node('banana')).setRight(Node('cherry')).left.setLeft(Node('dates'))\n",
    "print(\"PreOrder\")\n",
    "preOrder(tree.root)\n",
    "print(\"\\nInOrder\")\n",
    "inOrder(tree.root)\n",
    "print(\"\\nPosOrder\")\n",
    "posOrder(tree.root)"
   ]
  },
  {
   "cell_type": "markdown",
   "metadata": {},
   "source": [
    "# Breadth First Search (busca em largura)"
   ]
  },
  {
   "cell_type": "code",
   "execution_count": 138,
   "metadata": {},
   "outputs": [],
   "source": [
    "class Queue(object):\n",
    "    def __init__(self):\n",
    "        self.q = deque()\n",
    "    def enq(self, value):\n",
    "        self.q.appendleft(value)\n",
    "    def deq(self):\n",
    "        if len(self.q) > 0:\n",
    "            return self.q.pop()\n",
    "        else:\n",
    "            return None\n",
    "    \n",
    "    def __len__(self):\n",
    "        return len(self.q)\n",
    "    \n",
    "    def __repr__(self):\n",
    "        if len(self.q) > 0:\n",
    "            s = '<enqueue here>\\n_________\\n'\n",
    "            s += '\\n_________\\n'.join([str(item) for item in self.q])\n",
    "            s += '\\n_________\\n<dequeue here>'\n",
    "            return s\n",
    "        else:\n",
    "            return '<enqueue here>'"
   ]
  },
  {
   "cell_type": "code",
   "execution_count": 141,
   "metadata": {},
   "outputs": [
    {
     "name": "stdout",
     "output_type": "stream",
     "text": [
      "<enqueue here>\n",
      "_________\n",
      "cherry\n",
      "_________\n",
      "banana\n",
      "_________\n",
      "apple\n",
      "_________\n",
      "<dequeue here>\n"
     ]
    }
   ],
   "source": [
    "def bfs(node, q):\n",
    "    if node is not None:\n",
    "        q.enq(node.value)\n",
    "        print(node)\n",
    "        if(node.left):\n",
    "            q.enq(node.left.value)\n",
    "        if(node.right):\n",
    "            q.enq(node.right.value)\n",
    "        "
   ]
  },
  {
   "cell_type": "code",
   "execution_count": null,
   "metadata": {},
   "outputs": [],
   "source": []
  }
 ],
 "metadata": {
  "kernelspec": {
   "display_name": "Python 3",
   "language": "python",
   "name": "python3"
  },
  "language_info": {
   "codemirror_mode": {
    "name": "ipython",
    "version": 3
   },
   "file_extension": ".py",
   "mimetype": "text/x-python",
   "name": "python",
   "nbconvert_exporter": "python",
   "pygments_lexer": "ipython3",
   "version": "3.6.8"
  }
 },
 "nbformat": 4,
 "nbformat_minor": 2
}
