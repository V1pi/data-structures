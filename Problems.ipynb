{
 "cells": [
  {
   "cell_type": "code",
   "execution_count": 242,
   "metadata": {},
   "outputs": [],
   "source": [
    "count = 0\n",
    "def sqrt(number, maximum=0,minimum = 1):\n",
    "    global count\n",
    "    count += 1\n",
    "    \n",
    "    if(maximum is 0):\n",
    "        maximum = int(number/2)\n",
    "        \n",
    "    soma = int((maximum - minimum)/2)\n",
    "    minimum += soma\n",
    "    maximum -= soma\n",
    "    if(minimum > maximum):\n",
    "        minimum -= soma\n",
    "    square_min = minimum * minimum\n",
    "    square_max = maximum * maximum\n",
    "    \n",
    "            \n",
    "    if(soma <= 1):\n",
    "        if(square_min >= number):\n",
    "            return int(minimum)\n",
    "        if(square_max >= number):\n",
    "            return int(maximum)\n",
    "    elif square_min > number:\n",
    "        return sqrt(number, maximum, minimum-soma)\n",
    "    elif square_max < number:\n",
    "        return sqrt(number, maximum+soma, minimum)\n",
    "    else:\n",
    "        return sqrt(number, maximum, minimum)\n",
    "    \n",
    "    "
   ]
  },
  {
   "cell_type": "code",
   "execution_count": 244,
   "metadata": {},
   "outputs": [
    {
     "name": "stdout",
     "output_type": "stream",
     "text": [
      "Resposta:  23335948\n",
      "Contagem:  48\n"
     ]
    }
   ],
   "source": [
    "count = 0\n",
    "print(\"Resposta: \", sqrt(544566468465586))\n",
    "print(\"Contagem: \", count)"
   ]
  },
  {
   "cell_type": "code",
   "execution_count": null,
   "metadata": {},
   "outputs": [],
   "source": []
  },
  {
   "cell_type": "code",
   "execution_count": null,
   "metadata": {},
   "outputs": [],
   "source": []
  }
 ],
 "metadata": {
  "kernelspec": {
   "display_name": "Python 3",
   "language": "python",
   "name": "python3"
  },
  "language_info": {
   "codemirror_mode": {
    "name": "ipython",
    "version": 3
   },
   "file_extension": ".py",
   "mimetype": "text/x-python",
   "name": "python",
   "nbconvert_exporter": "python",
   "pygments_lexer": "ipython3",
   "version": "3.7.5rc1"
  }
 },
 "nbformat": 4,
 "nbformat_minor": 2
}
