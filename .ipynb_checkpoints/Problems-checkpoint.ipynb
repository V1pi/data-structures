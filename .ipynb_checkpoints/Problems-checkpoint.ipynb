{
 "cells": [
  {
   "cell_type": "code",
   "execution_count": 121,
   "metadata": {},
   "outputs": [],
   "source": [
    "count = 0\n",
    "def sqrt(number, maximum=0,minimum = 1):\n",
    "    global count\n",
    "    count += 1\n",
    "    \n",
    "    if(maximum is 0):\n",
    "        maximum = number/2\n",
    "    if(maximum < minimum):\n",
    "        return sqrt(number, maximum, minimum/2)\n",
    "    square_min = minimum * minimum\n",
    "    square_max = maximum * maximum\n",
    "        \n",
    "    if(maximum-minimum <= 1):\n",
    "        if(square_min >= number):\n",
    "            print(\"menor\")\n",
    "            return int(minimum)\n",
    "        if(square_max >= number):\n",
    "            print(\"maior\")\n",
    "            return int(maximum)\n",
    "        \n",
    "    \n",
    "    if(square_min > number):\n",
    "        print(\"cresci demais\")\n",
    "        return sqrt(number, int(maximum), int(minimum/2))\n",
    "    else:\n",
    "        return sqrt(number, int(maximum/2), int(minimum*2))\n",
    "        \n",
    "    \n",
    "    "
   ]
  },
  {
   "cell_type": "code",
   "execution_count": 122,
   "metadata": {},
   "outputs": [
    {
     "name": "stdout",
     "output_type": "stream",
     "text": [
      "menor\n",
      "Resposta:  8\n",
      "Contagem:  10\n"
     ]
    }
   ],
   "source": [
    "count = 0\n",
    "print(\"Resposta: \", sqrt(25))\n",
    "print(\"Contagem: \", count)"
   ]
  },
  {
   "cell_type": "code",
   "execution_count": null,
   "metadata": {},
   "outputs": [],
   "source": []
  }
 ],
 "metadata": {
  "kernelspec": {
   "display_name": "Python 3",
   "language": "python",
   "name": "python3"
  },
  "language_info": {
   "codemirror_mode": {
    "name": "ipython",
    "version": 3
   },
   "file_extension": ".py",
   "mimetype": "text/x-python",
   "name": "python",
   "nbconvert_exporter": "python",
   "pygments_lexer": "ipython3",
   "version": "3.7.5rc1"
  }
 },
 "nbformat": 4,
 "nbformat_minor": 2
}
